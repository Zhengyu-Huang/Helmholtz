{
 "cells": [
  {
   "cell_type": "markdown",
   "metadata": {},
   "source": [
    "# Data Generation : Uniform Field\n",
    "\n",
    "* First order finite element with $100 \\times 100$ computational domain, namely $101$ points in each edge \n",
    "* $\\omega = 1000$\n",
    "* The random $c$ field is generated as \n",
    "$$ c(\\theta) = 50 + \\theta$$\n",
    "Assuming that $ \\theta \\sim \\mathcal{U}[0, 50]$ \n",
    "\n"
   ]
  },
  {
   "cell_type": "markdown",
   "metadata": {},
   "source": [
    "# Data Generation : Random Field\n",
    "\n",
    "* First order finite element with $100 \\times 100$ computational domain, namely $101$ points in each edge \n",
    "* $\\omega = 1000$\n",
    "* The random $c$ field is generated as \n",
    "$$ c(x, \\theta) = 50 + e^{a(x, \\theta)}$$\n",
    "Assuming that $ a(x, \\theta)$ is a centred Gaussian with covariance \n",
    "$$\\mathsf{C} = (-\\Delta + \\tau^2 )^{-d};$$\n",
    "here $-\\Delta$ denotes the Laplacian on $D$ subject to homogeneous Neumann boundary conditions on the space of spatial-mean zero functions, \n",
    "$\\tau > 0$ denotes the inverse length scale of the random field and $d  > 0$ determines its regularity.\n",
    "The Gaussian field can be represented by the Karhunen–Loève (KL) expansion\n",
    "\\begin{equation}\n",
    "\\label{eq:KL-2d}\n",
    "     a(x,\\theta) = \\sum_{l\\in K} \\theta_{(l)}\\sqrt{\\lambda_l} \\psi_l(x),\n",
    "\\end{equation}\n",
    "where $K = \\mathcal{Z}^{0+}\\times\\mathcal{Z}^{0+} \\setminus \\{0,0\\}$, and the eigenpairs are of the form\n",
    "$$\n",
    "\\begin{equation*}\n",
    "    \\psi_l(x) = \\begin{cases}\n",
    "                 \\sqrt{2}\\cos(\\pi l_1 x_1)              & l_2 = 0\\\\\n",
    "                 \\sqrt{2}\\cos(\\pi l_2 x_2)              & l_1 = 0\\\\\n",
    "                 2\\cos(\\pi l_1 x_1)\\cos(\\pi l_2 x_2)    & \\textrm{otherwise}\\\\\n",
    "                 \\end{cases},\n",
    "                 \\qquad \\lambda_l = (\\pi^2 |l|^2 + \\tau^2)^{-d}\n",
    "\\end{equation*}\n",
    "$$\n",
    "and $\\theta_{(l)} \\sim \\mathcal{N}(0,1)$ i.i.d. The KL expansion can be rewritten as a sum over $\\mathcal{Z}^{0+}$ rather than a lattice: \n",
    "$$\n",
    "\\begin{equation}\n",
    "\\label{eq:KL-1d}\n",
    "     a(x,\\theta) = \\sum_{k\\in \\mathcal{Z}^{0+}} \\theta_{(k)}\\sqrt{\\lambda_k} \\psi_k(x),\n",
    "\\end{equation}\n",
    "$$\n",
    "where the eigenvalues $\\lambda_k$ are in descending order.\n",
    "In practice, we truncate this sum to $N_\\theta$ terms, based on the\n",
    "largest $N_\\theta$ eigenvalues, and hence $\\theta\\in\\mathcal{R}^{N_\\theta}$.\n",
    " \n",
    "\n"
   ]
  },
  {
   "cell_type": "markdown",
   "metadata": {},
   "source": [
    "# Direct Data\n",
    "\n",
    "The data pairs are $\\{\\theta, K \\}$, here K is a $101 \\times 101$ matrix, which stores $\\kappa(x_i, x_j)$"
   ]
  },
  {
   "cell_type": "markdown",
   "metadata": {},
   "source": [
    "# Indirect Data\n",
    "The data pairs are $\\{\\theta, u_n, u_d \\}$"
   ]
  }
 ],
 "metadata": {
  "kernelspec": {
   "display_name": "Julia 1.5.3",
   "language": "julia",
   "name": "julia-1.5"
  },
  "language_info": {
   "file_extension": ".jl",
   "mimetype": "application/julia",
   "name": "julia",
   "version": "1.5.3"
  }
 },
 "nbformat": 4,
 "nbformat_minor": 4
}
